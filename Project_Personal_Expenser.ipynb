{
 "cells": [
  {
   "cell_type": "code",
   "execution_count": 1,
   "id": "1c66f685",
   "metadata": {},
   "outputs": [],
   "source": [
    "'''\n",
    "first entry to the file\n",
    "'''\n",
    "import csv\n",
    "from csv import DictReader\n",
    "import pandas as pd\n",
    "from pathlib import Path\n",
    "import pandas as pd\n",
    "\n",
    "def new_expense_file():\n",
    "    dict={'Date':input('Enter the date in format yyyy-mm-dd:'),'Category':input('Enter the category of expense:'),\n",
    "      'Amount_Spent':input('Enter the amount spent:'),'Description':input('Enter the brief description:')}\n",
    "    with open(\"expense_data.csv\", \"w\",newline=\"\") as csvfile:\n",
    "        #writer = csv.writer(csvfile)\n",
    "        #fieldnames = ['Date', 'Category', 'Amount_Spent', 'Description']\n",
    "        #writer = csv.DictWriter(csvfile,fieldnames=fieldnames)\n",
    "        header = ['Date', 'Category', 'Amount_Spent', 'Description']\n",
    "        writer = csv.DictWriter(csvfile,header)\n",
    "        writer.writeheader()\n",
    "        #for key, value in new_dict.items():\n",
    "        writer.writerow(dict)\n",
    "        \n",
    "\n",
    "'''This method is to add the new expense to the existing file'''\n",
    "def add_expense():\n",
    "    new_dict={'Date':input('Enter the date in format yyyy-mm-dd:'),'Category':input('Enter the category of expense:'),\n",
    "      'Amount_Spent':input('Enter the amount spent:'),'Description':input('Enter the brief description:')}\n",
    "    with open(\"expense_data.csv\", \"a\") as csvfile:\n",
    "        fieldnames = ['Date', 'Category', 'Amount_Spent', 'Description']\n",
    "        writer = csv.DictWriter(csvfile,fieldnames=fieldnames)\n",
    "        writer.writerow(new_dict)      \n",
    "        \n",
    "\n",
    "def view_expense():\n",
    "    \n",
    "    with open(\"expense_data.csv\",\"r\") as data:\n",
    "        dict_reader = DictReader(data)\n",
    "        list_of_dict = list(dict_reader)\n",
    "        print(list_of_dict) \n",
    "        \n",
    "def total_budget():\n",
    "    budget=int(input('Enter the total budget for the month:'))\n",
    "    return budget\n",
    "def calculate_expense():\n",
    "    expense=pd.read_csv(\"expense_data.csv\")\n",
    "    total_spending=sum(expense.Amount_Spent)\n",
    "    total_amount=total_budget()\n",
    "    if total_spending > total_amount:\n",
    "        print(\"Spending is over the budget\")\n",
    "    else:\n",
    "        print(\"Available budget for the month is:\")\n",
    "        print( total_amount-total_spending)        \n",
    "        \n",
    "def save_expense():\n",
    "    dict={'Date':input('Enter the date in format yyyy-mm-dd:'),'Category':input('Enter the category of expense:'),\n",
    "      'Amount_Spent':input('Enter the amount spent:'),'Description':input('Enter the brief description:')}\n",
    "    with open(\"expense_data.csv\", \"a\") as csvfile:\n",
    "        fieldnames = ['Date', 'Category', 'Amount_Spent', 'Description']\n",
    "        writer = csv.DictWriter(csvfile,fieldnames=fieldnames)\n",
    "        writer.writerow(dict)\n",
    "        \n",
    "def expense_menu():\n",
    "    list(range(5))\n",
    "    for i in range(1,6):\n",
    "        User_Input=int(input('Enter your selected number between 1 to 5 ='))\n",
    "        if User_Input == 1:\n",
    "            print(\"Insert values to add expense:\")\n",
    "            add_expense()\n",
    "        elif User_Input == 2:\n",
    "            print(\"View Expense:\")\n",
    "            view_expense()\n",
    "        elif User_Input == 3:\n",
    "            print(\"Caculated Expense\")\n",
    "            calculate_expense()\n",
    "        elif User_Input == 4:\n",
    "            print(\"Insert values to save expense:\")\n",
    "            save_expense()\n",
    "        elif User_Input == 5:\n",
    "            print(\"Insert values to save expense and exit the program:\")\n",
    "            save_expense()\n",
    "            exit()\n",
    "            break\n",
    "        else:\n",
    "            print(\"Invalid Entry\")\n",
    "            exit()    \n",
    "            break"
   ]
  },
  {
   "cell_type": "code",
   "execution_count": 2,
   "id": "8d8be12b",
   "metadata": {},
   "outputs": [
    {
     "name": "stdout",
     "output_type": "stream",
     "text": [
      "Enter your selected number between 1 to 5 =6\n",
      "Invalid Entry\n"
     ]
    }
   ],
   "source": [
    "expense_menu()"
   ]
  },
  {
   "cell_type": "code",
   "execution_count": 28,
   "id": "e13ad246",
   "metadata": {},
   "outputs": [],
   "source": []
  },
  {
   "cell_type": "code",
   "execution_count": null,
   "id": "95948730",
   "metadata": {},
   "outputs": [],
   "source": []
  },
  {
   "cell_type": "code",
   "execution_count": null,
   "id": "d526185e",
   "metadata": {},
   "outputs": [],
   "source": []
  },
  {
   "cell_type": "code",
   "execution_count": null,
   "id": "9d3f7e17",
   "metadata": {},
   "outputs": [],
   "source": []
  },
  {
   "cell_type": "code",
   "execution_count": 13,
   "id": "b2ac7c11",
   "metadata": {},
   "outputs": [],
   "source": []
  },
  {
   "cell_type": "code",
   "execution_count": null,
   "id": "28156885",
   "metadata": {},
   "outputs": [],
   "source": []
  },
  {
   "cell_type": "code",
   "execution_count": null,
   "id": "9fd5dbeb",
   "metadata": {},
   "outputs": [],
   "source": []
  },
  {
   "cell_type": "code",
   "execution_count": null,
   "id": "eab3effc",
   "metadata": {},
   "outputs": [],
   "source": []
  },
  {
   "cell_type": "code",
   "execution_count": null,
   "id": "0468055f",
   "metadata": {},
   "outputs": [],
   "source": []
  },
  {
   "cell_type": "code",
   "execution_count": null,
   "id": "99639222",
   "metadata": {},
   "outputs": [],
   "source": []
  },
  {
   "cell_type": "code",
   "execution_count": null,
   "id": "4a037805",
   "metadata": {},
   "outputs": [],
   "source": []
  },
  {
   "cell_type": "code",
   "execution_count": null,
   "id": "ff31ae3e",
   "metadata": {},
   "outputs": [],
   "source": []
  },
  {
   "cell_type": "code",
   "execution_count": null,
   "id": "c92b9764",
   "metadata": {},
   "outputs": [],
   "source": []
  },
  {
   "cell_type": "code",
   "execution_count": null,
   "id": "09f0ecf6",
   "metadata": {},
   "outputs": [],
   "source": []
  },
  {
   "cell_type": "code",
   "execution_count": null,
   "id": "bf9d4eeb",
   "metadata": {},
   "outputs": [],
   "source": []
  },
  {
   "cell_type": "code",
   "execution_count": null,
   "id": "d7d1a6d4",
   "metadata": {},
   "outputs": [],
   "source": []
  },
  {
   "cell_type": "code",
   "execution_count": null,
   "id": "8106e463",
   "metadata": {},
   "outputs": [],
   "source": []
  },
  {
   "cell_type": "code",
   "execution_count": null,
   "id": "005559f9",
   "metadata": {},
   "outputs": [],
   "source": []
  }
 ],
 "metadata": {
  "kernelspec": {
   "display_name": "Python 3 (ipykernel)",
   "language": "python",
   "name": "python3"
  },
  "language_info": {
   "codemirror_mode": {
    "name": "ipython",
    "version": 3
   },
   "file_extension": ".py",
   "mimetype": "text/x-python",
   "name": "python",
   "nbconvert_exporter": "python",
   "pygments_lexer": "ipython3",
   "version": "3.9.12"
  }
 },
 "nbformat": 4,
 "nbformat_minor": 5
}
